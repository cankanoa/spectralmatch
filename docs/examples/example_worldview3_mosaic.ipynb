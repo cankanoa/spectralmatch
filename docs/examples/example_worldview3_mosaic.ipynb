{
 "cells": [
  {
   "metadata": {},
   "cell_type": "markdown",
   "source": [
    "# Worldview Mosaic\n",
    "This notebook demonstrates how to preprocess Worldview3 imagery into a mosaic. Starting from two overlapping Worldview3 images in reflectance, the process includes global matching, local matching, starting from saved block maps (optional for demonstration purposes), generating seamlines, and marging images, and and before vs after statistics.\n",
    "\n",
    "This script is setup to perform matching on all tif files from a folder within the working directory called \"Input\" e.g. working_directory/Input/*.tif."
   ],
   "id": "b968417f5c5af491"
  },
  {
   "metadata": {},
   "cell_type": "code",
   "source": [
    "# Setup\n",
    "import os\n",
    "import importlib\n",
    "\n",
    "from spectralmatch.match.global_regression import global_regression\n",
    "from spectralmatch.match.local_block_adjustment import local_block_adjustment\n",
    "from spectralmatch.handlers import merge_rasters, mask_rasters\n",
    "from spectralmatch.voronoi_center_seamline import voronoi_center_seamline\n",
    "\n",
    "# -------------------- Parameters\n",
    "working_directory = os.path.join(os.getcwd(), \"data_worldview3\")\n",
    "# This script is setup to perform matching on all tif files from a folder within the working directory called \"input\" e.g. working_directory/input/*.tif.\n",
    "\n",
    "vector_mask_path = working_directory + \"/Input/Masks.gpkg\"\n",
    "\n",
    "input_folder = os.path.join(working_directory, \"Input\")\n",
    "global_folder = os.path.join(working_directory, \"GlobalMatch\")\n",
    "local_folder = os.path.join(working_directory, \"LocalMatch\")"
   ],
   "id": "64df455f5d5f4e02",
   "outputs": [],
   "execution_count": null
  },
  {
   "cell_type": "code",
   "id": "initial_id",
   "metadata": {
    "collapsed": true
   },
   "source": [
    "# Global matching\n",
    "input_image_paths_array = [os.path.join(input_folder, f) for f in os.listdir(input_folder) if f.lower().endswith(\".tif\")]\n",
    "\n",
    "matched_global_images_paths = global_regression(\n",
    "    input_image_paths_array,\n",
    "    global_folder,\n",
    "    custom_mean_factor = 3, # Defualt 1; 3 often works better to 'move' the spectral mean of images closer together\n",
    "    custom_std_factor = 1,\n",
    "    # vector_mask_path=vector_mask_path,\n",
    "    debug_logs=True,\n",
    "    window_size=128,\n",
    "    parallel_workers=4\n",
    "    )"
   ],
   "outputs": [],
   "execution_count": null
  },
  {
   "metadata": {},
   "cell_type": "code",
   "source": [
    "# Local matching\n",
    "global_image_paths_array = [os.path.join(global_folder, f) for f in os.listdir(global_folder) if f.lower().endswith(\".tif\")]\n",
    "\n",
    "matched_local_images_paths = local_block_adjustment(\n",
    "    global_image_paths_array,\n",
    "    local_folder,\n",
    "    number_of_blocks=100,\n",
    "    debug_logs=True,\n",
    "    window_size=128,\n",
    "    parallel_workers=\"cpu\",\n",
    "    )"
   ],
   "id": "f188cf5b0164cdeb",
   "outputs": [],
   "execution_count": null
  },
  {
   "metadata": {},
   "cell_type": "code",
   "source": [
    "# Start from saved block maps\n",
    "saved_reference_path = os.path.join(local_folder, \"BlockReferenceMean\", \"BlockReferenceMean.tif\")\n",
    "saved_local_folder_path = os.path.join(local_folder, \"BlockLocalMean\")\n",
    "saved_local_paths = [os.path.join(saved_local_folder_path, f) for f in os.listdir(saved_local_folder_path) if f.lower().endswith(\".tif\")]\n",
    "\n",
    "new_local_folder = os.path.join(working_directory, \"New_LocalMatch\")\n",
    "\n",
    "matched_local_images_paths = local_block_adjustment(\n",
    "    global_image_paths_array,\n",
    "    new_local_folder,\n",
    "    number_of_blocks=100,\n",
    "    debug_logs=True,\n",
    "    window_size=512,\n",
    "    parallel_workers=\"cpu\",\n",
    "    pre_computed_block_map_paths=(saved_reference_path, saved_local_paths)\n",
    "    )"
   ],
   "id": "723630782a5ec0b8",
   "outputs": [],
   "execution_count": null
  },
  {
   "metadata": {},
   "cell_type": "code",
   "source": [
    "# Generate seamlines\n",
    "input_image_paths_array = [os.path.join(local_folder, f) for f in os.listdir(local_folder) if f.lower().endswith(\".tif\")]\n",
    "output_vector_mask = os.path.join(working_directory, \"ImageMasks.gpkg\")\n",
    "\n",
    "voronoi_center_seamline(\n",
    "    input_image_paths_array,\n",
    "    output_vector_mask,\n",
    "    )"
   ],
   "id": "3f2f9b3ae8eecd9f",
   "outputs": [],
   "execution_count": null
  },
  {
   "metadata": {},
   "cell_type": "code",
   "source": [
    "# Mask and merge\n",
    "input_image_paths_array = sorted([os.path.join(local_folder, f) for f in os.listdir(local_folder) if f.lower().endswith(\".tif\")])\n",
    "output_folder = os.path.join(working_directory, \"MaskedImages\")\n",
    "masked_image_paths = sorted([os.path.join(output_folder, os.path.splitext(os.path.basename(path))[0] + \"_MaskedImages.tif\") for path in input_image_paths_array])\n",
    "input_vector_mask_path = os.path.join(working_directory, \"ImageMasks.gpkg\")\n",
    "output_merged_image_path = os.path.join(working_directory, \"MergedImage.tif\")\n",
    "\n",
    "mask_rasters(\n",
    "    input_image_paths_array,\n",
    "    masked_image_paths,\n",
    "    input_vector_mask_path,\n",
    "    tap=True,\n",
    "    debug_logs=True,\n",
    "    split_mask_by_attribute=\"image\",\n",
    "    window_size=100,\n",
    "    )\n",
    "\n",
    "merge_rasters(\n",
    "    masked_image_paths,\n",
    "    output_merged_image_path,\n",
    "    window_size=100,\n",
    "    debug_logs=True,\n",
    ")"
   ],
   "id": "4f557127288c990e",
   "outputs": [],
   "execution_count": null
  },
  {
   "metadata": {},
   "cell_type": "code",
   "source": [
    "# Statistics\n",
    "# To visually see the difference make sure to merge input images so that their histograms match"
   ],
   "id": "b57c122b22ffc643",
   "outputs": [],
   "execution_count": null
  }
 ],
 "metadata": {
  "kernelspec": {
   "display_name": "Python 3",
   "language": "python",
   "name": "python3"
  },
  "language_info": {
   "codemirror_mode": {
    "name": "ipython",
    "version": 2
   },
   "file_extension": ".py",
   "mimetype": "text/x-python",
   "name": "python",
   "nbconvert_exporter": "python",
   "pygments_lexer": "ipython2",
   "version": "2.7.6"
  }
 },
 "nbformat": 4,
 "nbformat_minor": 5
}
