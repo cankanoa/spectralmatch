{
 "cells": [
  {
   "metadata": {},
   "cell_type": "code",
   "source": [
    "# Setup\n",
    "import os\n",
    "import importlib\n",
    "\n",
    "import spectralmatch.match.global_regression as global_regression_mod\n",
    "import spectralmatch.match.local_block_adjustment as local_block_adjustment_mod\n",
    "import spectralmatch.handlers as handlers_mod\n",
    "\n",
    "importlib.reload(global_regression_mod)\n",
    "importlib.reload(local_block_adjustment_mod)\n",
    "importlib.reload(handlers_mod)\n",
    "\n",
    "from spectralmatch.match.global_regression import global_regression\n",
    "from spectralmatch.match.local_block_adjustment import local_block_adjustment\n",
    "from spectralmatch.handlers import merge_rasters\n",
    "\n",
    "# -------------------- Parameters\n",
    "working_directory = os.path.join(os.getcwd(), \"data_worldview3\")\n",
    "# This script is setup to perform matching on all tif files from a folder within the working directory called \"input\" e.g. working_directory/input/*.tif.\n",
    "\n",
    "vector_mask_path = working_directory + \"/Input/Masks.gpkg\"\n",
    "\n",
    "input_folder = os.path.join(working_directory, \"Input\")\n",
    "global_folder = os.path.join(working_directory, \"GlobalMatch\")\n",
    "local_folder = os.path.join(working_directory, \"LocalMatch\")"
   ],
   "id": "64df455f5d5f4e02",
   "outputs": [],
   "execution_count": null
  },
  {
   "cell_type": "code",
   "id": "initial_id",
   "metadata": {
    "collapsed": true
   },
   "source": [
    "# Global histogram matching\n",
    "input_image_paths_array = [os.path.join(input_folder, f) for f in os.listdir(input_folder) if f.lower().endswith(\".tif\")]\n",
    "\n",
    "matched_global_images_paths = global_regression(\n",
    "    input_image_paths_array,\n",
    "    global_folder,\n",
    "    custom_mean_factor = 3, # Defualt 1; 3 often works better to 'move' the spectral mean of images closer together\n",
    "    custom_std_factor = 1,\n",
    "    # vector_mask_path=vector_mask_path,\n",
    "    debug_logs=True,\n",
    "    window_size=(512, 512),\n",
    "    parallel=True,\n",
    "    )\n",
    "\n",
    "merge_rasters(\n",
    "    matched_global_images_paths, # Rasters are layered with the last ones on top\n",
    "    os.path.join(working_directory, \"MatchedGlobalImages.tif\"),\n",
    "    window_size=(512, 512),\n",
    "    )"
   ],
   "outputs": [],
   "execution_count": null
  },
  {
   "metadata": {},
   "cell_type": "code",
   "source": [
    "# Local histogram matching\n",
    "global_image_paths_array = [os.path.join(global_folder, f) for f in os.listdir(global_folder) if f.lower().endswith(\".tif\")]\n",
    "\n",
    "matched_local_images_paths = local_block_adjustment(\n",
    "    global_image_paths_array,\n",
    "    local_folder,\n",
    "    number_of_blocks=100,\n",
    "    debug_logs=True,\n",
    "    window_size=(300,300),\n",
    "    parallel=True,\n",
    "    )\n",
    "\n",
    "merge_rasters(\n",
    "    matched_local_images_paths, # Rasters are layered with the last ones on top\n",
    "    os.path.join(working_directory, \"MatchedLocalImages.tif\"),\n",
    "    window_size=(300, 300),\n",
    "    )\n",
    "\n",
    "print(\"Done with global and local histogram matching\")"
   ],
   "id": "f188cf5b0164cdeb",
   "outputs": [],
   "execution_count": null
  },
  {
   "metadata": {},
   "cell_type": "code",
   "source": [
    "# Start from saved block maps\n",
    "saved_reference_path = os.path.join(local_folder, \"BlockReferenceMean\", \"BlockReferenceMean.tif\")\n",
    "saved_local_folder_path = os.path.join(local_folder, \"BlockLocalMean\")\n",
    "saved_local_paths = [os.path.join(saved_local_folder_path, f) for f in os.listdir(saved_local_folder_path) if f.lower().endswith(\".tif\")]\n",
    "\n",
    "new_local_folder = os.path.join(working_directory, \"New_LocalMatch\")\n",
    "\n",
    "matched_local_images_paths = local_block_adjustment(\n",
    "    global_image_paths_array,\n",
    "    new_local_folder,\n",
    "    number_of_blocks=100,\n",
    "    debug_logs=True,\n",
    "    window_size=(512,512),\n",
    "    parallel=True,\n",
    "    pre_computed_block_map_paths=(saved_reference_path, saved_local_paths)\n",
    "    )\n",
    "\n",
    "matched_local_images_paths = [os.path.join(new_local_folder, f) for f in os.listdir(new_local_folder) if f.lower().endswith(\".tif\")]\n",
    "\n",
    "merge_rasters(\n",
    "    matched_local_images_paths, # Rasters are layered with the last ones on top\n",
    "    os.path.join(new_local_folder, \"MatchedLocalImages.tif\"),\n",
    "    window_size=(512, 512),\n",
    "    )\n"
   ],
   "id": "723630782a5ec0b8",
   "outputs": [],
   "execution_count": null
  },
  {
   "metadata": {},
   "cell_type": "code",
   "source": [
    "import os\n",
    "\n",
    "from spectralmatch.voronoi_centerline_seamline import voronoi_centerline_seamline\n",
    "\n",
    "working_directory = os.path.join(os.path.dirname(os.path.abspath(__file__)), \"example_data\")\n",
    "input_folder = os.path.join(working_directory, \"Output\", \"LocalMatch\", \"Images\")\n",
    "input_image_paths_array = [os.path.join(input_folder, f) for f in os.listdir(input_folder) if f.lower().endswith(\".tif\")]\n",
    "\n",
    "voronoi_centerline_seamline(\n",
    "    input_image_paths_array,\n",
    "    './example_data/Output/seamline_mask.gpkg')\n",
    "\n",
    "# Statistics\n",
    "# To visually see the difference make sure to merge input images so that their histograms match"
   ],
   "id": "3f2f9b3ae8eecd9f",
   "outputs": [],
   "execution_count": null
  }
 ],
 "metadata": {
  "kernelspec": {
   "display_name": "Python 3",
   "language": "python",
   "name": "python3"
  },
  "language_info": {
   "codemirror_mode": {
    "name": "ipython",
    "version": 2
   },
   "file_extension": ".py",
   "mimetype": "text/x-python",
   "name": "python",
   "nbconvert_exporter": "python",
   "pygments_lexer": "ipython2",
   "version": "2.7.6"
  }
 },
 "nbformat": 4,
 "nbformat_minor": 5
}
