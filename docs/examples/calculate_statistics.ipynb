{
 "cells": [
  {
   "cell_type": "code",
   "execution_count": null,
   "id": "initial_id",
   "metadata": {
    "collapsed": true
   },
   "outputs": [],
   "source": [
    "from spectralmatch import (\n",
    "    compare_spatial_spectral_difference_individual_bands,\n",
    "    compare_image_spectral_profiles_pairs,\n",
    "    compare_image_spectral_profiles,\n",
    "    compare_spatial_spectral_difference_average)\n",
    "\n",
    "compare_spatial_spectral_difference_individual_bands(\n",
    "    (\n",
    "    '/image/a.tif',\n",
    "    '/image/b.tif'),\n",
    "    '/output.png'\n",
    ")\n",
    "\n",
    "\n",
    "compare_image_spectral_profiles_pairs(\n",
    "    {\n",
    "        'Image A': [\n",
    "            '/image/before/a.tif',\n",
    "            'image/after/a.tif'\n",
    "        ],\n",
    "        'Image B': [\n",
    "            '/image/before/b.tif',\n",
    "            '/image/after/b.tif'\n",
    "        ]\n",
    "    },\n",
    "    '/output.png'\n",
    ")\n",
    "\n",
    "\n",
    "compare_image_spectral_profiles(\n",
    "    {\n",
    "        'Image A': 'image/a.tif',\n",
    "        'Image B': '/image/b.tif'\n",
    "    },\n",
    "    \"/output.png\",\n",
    "    \"Digital Number Spectral Profile Comparison\",\n",
    "    'Band',\n",
    "    'Digital Number(0-2,047)',\n",
    "\n",
    ")\n",
    "\n",
    "\n",
    "compare_spatial_spectral_difference_average(\n",
    "    [\n",
    "        '/image/a.tif',\n",
    "        '/image/a.tif'\n",
    "     ],\n",
    "    '/output.png'\n",
    ")"
   ]
  }
 ],
 "metadata": {
  "kernelspec": {
   "display_name": "Python 3",
   "language": "python",
   "name": "python3"
  },
  "language_info": {
   "codemirror_mode": {
    "name": "ipython",
    "version": 2
   },
   "file_extension": ".py",
   "mimetype": "text/x-python",
   "name": "python",
   "nbconvert_exporter": "python",
   "pygments_lexer": "ipython2",
   "version": "2.7.6"
  }
 },
 "nbformat": 4,
 "nbformat_minor": 5
}
