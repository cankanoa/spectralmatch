{
 "cells": [
  {
   "metadata": {},
   "cell_type": "markdown",
   "source": [
    "# Landsat Time Series\n",
    "This notebook demonstrates how to preprocess Landsat 8-9 into a time series with spectralmatch. Starting from 5 Landsat 8-9 OLI/TIRS C2 L1 images, the process includes clipping clouds with OmniCloudMask, masking high NDVI areas as Pseudo Invariant Features (PIFs), applying global regression Relative Radiometric Normalization, fine-tuning overlap areas with local block adjustment, and before vs after statistics.\n",
    "\n",
    "This script is setup to perform matching on all tif files from a folder within the working directory called \"Input\" e.g. working_directory/Input/*.tif."
   ],
   "id": "52c159feaa87e43"
  },
  {
   "metadata": {},
   "cell_type": "code",
   "source": [
    "# Setup\n",
    "import os\n",
    "import os\n",
    "import importlib\n",
    "\n",
    "from spectralmatch.match.global_regression import global_regression\n",
    "from spectralmatch.match.local_block_adjustment import local_block_adjustment\n",
    "from spectralmatch.handlers import merge_rasters\n",
    "from spectralmatch.mask import create_cloud_mask_with_omnicloudmask, post_process_raster_cloud_mask_to_vector, create_ndvi_mask, post_process_threshold_to_vector, mask_image_with_vector\n",
    "\n",
    "working_directory = os.path.join(os.getcwd(), \"data_landsat\")\n",
    "print(working_directory)"
   ],
   "id": "a87a60f220280036",
   "outputs": [],
   "execution_count": null
  },
  {
   "metadata": {},
   "cell_type": "code",
   "source": [
    "# Create cloud masks\n",
    "input_folder = os.path.join(working_directory, \"Input\")\n",
    "output_folder = os.path.join(working_directory, 'Masks'); os.makedirs(output_folder, exist_ok=True)\n",
    "input_image_paths_array = [os.path.join(input_folder, f) for f in os.listdir(input_folder) if f.lower().endswith(\".tif\")]\n",
    "\n",
    "for path in input_image_paths_array:\n",
    "    create_cloud_mask_with_omnicloudmask(\n",
    "        path,\n",
    "        5,\n",
    "        3,\n",
    "        8,\n",
    "        os.path.join(output_folder, f\"{os.path.splitext(os.path.basename(path))[0]}_CloudMask.tif\"),\n",
    "        # down_sample_m=10\n",
    "    )\n",
    "\n",
    "input_mask_rasters = [os.path.join(output_folder, f) for f in os.listdir(output_folder) if f.lower().endswith(\".tif\")] \n",
    "\n",
    "for path in input_mask_rasters:\n",
    "        post_process_raster_cloud_mask_to_vector(\n",
    "            path,\n",
    "            os.path.join(output_folder, f\"{os.path.splitext(os.path.basename(path))[0]}_CloudMask.gpkg\"),\n",
    "            None,\n",
    "            {1: 50},\n",
    "            {0: 0, 1: 1, 2: 1, 3: 1}\n",
    "        ),\n",
    "        \n",
    "\n",
    "# Use cloud masks\n",
    "input_folder = os.path.join(working_directory, \"Input\")\n",
    "mask_folder = os.path.join(working_directory, \"Masks\")\n",
    "output_folder = os.path.join(working_directory, \"Masked\")\n",
    "input_paths = sorted([os.path.join(input_folder, f) for f in os.listdir(input_folder) if f.lower().endswith(\".tif\")])\n",
    "input_mask_vectors = sorted([os.path.join(mask_folder, f) for f in os.listdir(mask_folder) if f.lower().endswith(\".gpkg\")])\n",
    "output_paths = sorted([os.path.join(output_folder, os.path.splitext(os.path.basename(path))[0] + \"_CloudMasked.tif\") for path in input_paths])\n",
    "\n",
    "for input_path, vector_path, output_path in zip(input_paths, input_mask_vectors, output_paths):\n",
    "    mask_image_with_vector(\n",
    "        input_path,\n",
    "        vector_path,\n",
    "        output_path,\n",
    "        {\"value\":0},\n",
    "        True\n",
    "    )"
   ],
   "id": "be0890dadfbcaafd",
   "outputs": [],
   "execution_count": null
  },
  {
   "metadata": {},
   "cell_type": "code",
   "source": [
    "# Mask trees as a non-PIF for isolated analysis\n",
    "input_folder = os.path.join(working_directory, \"Input\")\n",
    "mask_folder = os.path.join(working_directory, \"Pifs\")\n",
    "output_folder = os.path.join(working_directory, \"Pifed\")\n",
    "input_paths = sorted([os.path.join(input_folder, f) for f in os.listdir(input_folder) if f.lower().endswith(\".tif\")])\n",
    "output_raster_masks = sorted([os.path.join(mask_folder, os.path.splitext(os.path.basename(path))[0] + \"_CloudMasked.tif\") for path in input_paths])\n",
    "output_vectors_masks = sorted([os.path.join(mask_folder, os.path.splitext(os.path.basename(path))[0] + \"_CloudMasked.gpkg\") for path in input_paths])\n",
    "\n",
    "for input_path, raster_path, vector_path in zip(input_paths, output_raster_masks, output_vectors_masks):\n",
    "    create_ndvi_mask(\n",
    "        input_path,\n",
    "        raster_path,\n",
    "        5,\n",
    "        4,\n",
    "    )\n",
    "    \n",
    "for input_path, raster_path, vector_path in zip(input_paths, output_raster_masks, output_vectors_masks): \n",
    "    post_process_threshold_to_vector(\n",
    "        raster_path,\n",
    "        vector_path,\n",
    "        0.2,\n",
    "        \"<=\",\n",
    "    )\n",
    "    \n",
    "    "
   ],
   "id": "e19b95a5e11b470b",
   "outputs": [],
   "execution_count": null
  },
  {
   "metadata": {
    "collapsed": true
   },
   "cell_type": "code",
   "source": [
    "# Global matching\n",
    "vector_mask_path = working_directory + \"/Input/Masks.gpkg\"\n",
    "input_folder = os.path.join(working_directory, \"Masked\")\n",
    "global_folder = os.path.join(working_directory, \"GlobalMatch\")\n",
    "input_image_paths = [os.path.join(input_folder, f) for f in os.listdir(input_folder) if f.lower().endswith(\".tif\")]\n",
    "\n",
    "global_regression(\n",
    "    input_image_paths,\n",
    "    global_folder,\n",
    "    custom_mean_factor = 3, # Defualt 1; 3 often works better to 'move' the spectral mean of images closer together\n",
    "    custom_std_factor = 1,\n",
    "    # vector_mask_path=vector_mask_path,\n",
    "    debug_logs=False,\n",
    "    window_size=(512, 512),\n",
    "    parallel=True,\n",
    "    )"
   ],
   "id": "initial_id",
   "outputs": [],
   "execution_count": null
  },
  {
   "metadata": {},
   "cell_type": "code",
   "source": [
    "# Local matching\n",
    "global_folder = os.path.join(working_directory, \"GlobalMatch\")\n",
    "input_image_paths = [os.path.join(global_folder, f) for f in os.listdir(global_folder) if f.lower().endswith(\".tif\")]\n",
    "local_folder = os.path.join(working_directory, \"LocalMatch\")\n",
    "global_image_paths_array = [os.path.join(global_folder, f) for f in os.listdir(global_folder) if f.lower().endswith(\".tif\")]\n",
    "\n",
    "matched_local_images_paths = local_block_adjustment(\n",
    "    global_image_paths_array,\n",
    "    local_folder,\n",
    "    number_of_blocks=100,\n",
    "    debug_logs=False,\n",
    "    window_size=(512, 512),\n",
    "    parallel=True,\n",
    "    )\n",
    "\n",
    "merge_rasters(\n",
    "    matched_local_images_paths, # Rasters are layered with the last ones on top\n",
    "    os.path.join(working_directory, \"MatchedLocalImages.tif\"),\n",
    "    window_size=(512, 512),\n",
    "    )\n",
    "\n",
    "print(\"Done with global and local histogram matching\")"
   ],
   "id": "4e76a7d02dddf4d9",
   "outputs": [],
   "execution_count": null
  },
  {
   "metadata": {},
   "cell_type": "code",
   "outputs": [],
   "execution_count": null,
   "source": "# Statistics",
   "id": "94a1316a158e7228"
  },
  {
   "metadata": {},
   "cell_type": "markdown",
   "source": "",
   "id": "9c36cf6ecbbfcdac"
  }
 ],
 "metadata": {
  "kernelspec": {
   "display_name": "Python 3",
   "language": "python",
   "name": "python3"
  },
  "language_info": {
   "codemirror_mode": {
    "name": "ipython",
    "version": 2
   },
   "file_extension": ".py",
   "mimetype": "text/x-python",
   "name": "python",
   "nbconvert_exporter": "python",
   "pygments_lexer": "ipython2",
   "version": "2.7.6"
  }
 },
 "nbformat": 4,
 "nbformat_minor": 5
}
