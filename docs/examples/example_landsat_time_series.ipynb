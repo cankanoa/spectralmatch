{
 "cells": [
  {
   "metadata": {},
   "cell_type": "markdown",
   "source": [
    "# Landsat Time Series\n",
    "This notebook demonstrates how to preprocess Landsat 8-9 into a time series with spectralmatch. Starting from Landsat 8-9 OLI/TIRS C2 L1, clipping clouds with OmniCloudMask, masking high NDVI areas as Pseudo Invariant Features (PIFs), applying global regression Relative Radiometric Normalization, fine-tuning overlap areas with local block adjustment, and before vs after statistics."
   ],
   "id": "52c159feaa87e43"
  },
  {
   "metadata": {
    "ExecuteTime": {
     "end_time": "2025-05-09T02:35:28.494838Z",
     "start_time": "2025-05-09T02:35:28.490102Z"
    }
   },
   "cell_type": "code",
   "source": [
    "# Setup\n",
    "import os\n",
    "import os\n",
    "import importlib\n",
    "\n",
    "import spectralmatch.match.global_regression as global_regression_mod\n",
    "import spectralmatch.match.local_block_adjustment as local_block_adjustment_mod\n",
    "import spectralmatch.handlers as handlers_mod\n",
    "\n",
    "importlib.reload(global_regression_mod)\n",
    "importlib.reload(local_block_adjustment_mod)\n",
    "importlib.reload(handlers_mod)\n",
    "\n",
    "from spectralmatch.match.global_regression import global_regression\n",
    "from spectralmatch.match.local_block_adjustment import local_block_adjustment\n",
    "from spectralmatch.handlers import merge_rasters\n",
    "\n",
    "working_directory = os.path.join(os.getcwd(), \"data_landsat\")\n",
    "# This script is setup to perform matching on all tif files from a folder within the working directory called \"input\" e.g. working_directory/input/*.tif.\n",
    "print(working_directory)"
   ],
   "id": "a87a60f220280036",
   "outputs": [
    {
     "name": "stdout",
     "output_type": "stream",
     "text": [
      "/Users/kanoalindiwe/Downloads/Projects/spectralmatch/docs/examples/data_landsat\n"
     ]
    }
   ],
   "execution_count": 18
  },
  {
   "metadata": {
    "ExecuteTime": {
     "end_time": "2025-05-09T02:45:41.921396Z",
     "start_time": "2025-05-09T02:44:42.207572Z"
    }
   },
   "cell_type": "code",
   "source": [
    "# Cloud clipping\n",
    "from spectralmatch import (\n",
    "    create_cloud_mask_with_omnicloudmask,\n",
    "    post_process_raster_cloud_mask_to_vector)\n",
    "from spectralmatch import write_vector\n",
    "\n",
    "input_folder = os.path.join(working_directory, \"Input\")\n",
    "output_folder = os.path.join(working_directory, 'Masks'); os.makedirs(output_folder, exist_ok=True)\n",
    "\n",
    "input_image_paths_array = [os.path.join(input_folder, f) for f in os.listdir(input_folder) if f.lower().endswith(\".tif\")]\n",
    "\n",
    "# for path in input_image_paths_array:\n",
    "#     create_cloud_mask_with_omnicloudmask(\n",
    "#         path,\n",
    "#         5,\n",
    "#         3,\n",
    "#         8,\n",
    "#         os.path.join(output_folder, f\"{os.path.splitext(os.path.basename(path))[0]}_CloudMask.tif\"),\n",
    "#         # down_sample_m=10\n",
    "#     )\n",
    "\n",
    "input_mask_rasters = [os.path.join(output_folder, f) for f in os.listdir(input_folder) if f.lower().endswith(\".tif\")] \n",
    "\n",
    "for path in input_mask_rasters:\n",
    "    write_vector(\n",
    "        post_process_raster_cloud_mask_to_vector(\n",
    "            path,\n",
    "            None,\n",
    "            {1: 50},\n",
    "            {0: 0, 1: 1, 2: 1, 3: 1}\n",
    "        ),\n",
    "        os.path.join(output_folder, f\"{os.path.splitext(os.path.basename(path))[0]}_CloudMask.gpkg\"),\n",
    "    )"
   ],
   "id": "be0890dadfbcaafd",
   "outputs": [
    {
     "ename": "RasterioIOError",
     "evalue": "/Users/kanoalindiwe/Downloads/Projects/spectralmatch/docs/examples/data_landsat/Masks/Masked_20220313.tif: No such file or directory",
     "output_type": "error",
     "traceback": [
      "\u001B[0;31m---------------------------------------------------------------------------\u001B[0m",
      "\u001B[0;31mCPLE_OpenFailedError\u001B[0m                      Traceback (most recent call last)",
      "File \u001B[0;32mrasterio/_base.pyx:310\u001B[0m, in \u001B[0;36mrasterio._base.DatasetBase.__init__\u001B[0;34m()\u001B[0m\n",
      "File \u001B[0;32mrasterio/_base.pyx:221\u001B[0m, in \u001B[0;36mrasterio._base.open_dataset\u001B[0;34m()\u001B[0m\n",
      "File \u001B[0;32mrasterio/_err.pyx:359\u001B[0m, in \u001B[0;36mrasterio._err.exc_wrap_pointer\u001B[0;34m()\u001B[0m\n",
      "\u001B[0;31mCPLE_OpenFailedError\u001B[0m: /Users/kanoalindiwe/Downloads/Projects/spectralmatch/docs/examples/data_landsat/Masks/Masked_20220313.tif: No such file or directory",
      "\nDuring handling of the above exception, another exception occurred:\n",
      "\u001B[0;31mRasterioIOError\u001B[0m                           Traceback (most recent call last)",
      "Cell \u001B[0;32mIn[23], line 26\u001B[0m\n\u001B[1;32m     22\u001B[0m input_mask_rasters \u001B[38;5;241m=\u001B[39m [os\u001B[38;5;241m.\u001B[39mpath\u001B[38;5;241m.\u001B[39mjoin(output_folder, f) \u001B[38;5;28;01mfor\u001B[39;00m f \u001B[38;5;129;01min\u001B[39;00m os\u001B[38;5;241m.\u001B[39mlistdir(input_folder) \u001B[38;5;28;01mif\u001B[39;00m f\u001B[38;5;241m.\u001B[39mlower()\u001B[38;5;241m.\u001B[39mendswith(\u001B[38;5;124m\"\u001B[39m\u001B[38;5;124m.tif\u001B[39m\u001B[38;5;124m\"\u001B[39m)] \n\u001B[1;32m     24\u001B[0m \u001B[38;5;28;01mfor\u001B[39;00m path \u001B[38;5;129;01min\u001B[39;00m input_mask_rasters:\n\u001B[1;32m     25\u001B[0m     write_vector(\n\u001B[0;32m---> 26\u001B[0m         \u001B[43mpost_process_raster_cloud_mask_to_vector\u001B[49m\u001B[43m(\u001B[49m\n\u001B[1;32m     27\u001B[0m \u001B[43m            \u001B[49m\u001B[43mpath\u001B[49m\u001B[43m,\u001B[49m\n\u001B[1;32m     28\u001B[0m \u001B[43m            \u001B[49m\u001B[38;5;28;43;01mNone\u001B[39;49;00m\u001B[43m,\u001B[49m\n\u001B[1;32m     29\u001B[0m \u001B[43m            \u001B[49m\u001B[43m{\u001B[49m\u001B[38;5;241;43m1\u001B[39;49m\u001B[43m:\u001B[49m\u001B[43m \u001B[49m\u001B[38;5;241;43m50\u001B[39;49m\u001B[43m}\u001B[49m\u001B[43m,\u001B[49m\n\u001B[1;32m     30\u001B[0m \u001B[43m            \u001B[49m\u001B[43m{\u001B[49m\u001B[38;5;241;43m0\u001B[39;49m\u001B[43m:\u001B[49m\u001B[43m \u001B[49m\u001B[38;5;241;43m0\u001B[39;49m\u001B[43m,\u001B[49m\u001B[43m \u001B[49m\u001B[38;5;241;43m1\u001B[39;49m\u001B[43m:\u001B[49m\u001B[43m \u001B[49m\u001B[38;5;241;43m1\u001B[39;49m\u001B[43m,\u001B[49m\u001B[43m \u001B[49m\u001B[38;5;241;43m2\u001B[39;49m\u001B[43m:\u001B[49m\u001B[43m \u001B[49m\u001B[38;5;241;43m1\u001B[39;49m\u001B[43m,\u001B[49m\u001B[43m \u001B[49m\u001B[38;5;241;43m3\u001B[39;49m\u001B[43m:\u001B[49m\u001B[43m \u001B[49m\u001B[38;5;241;43m1\u001B[39;49m\u001B[43m}\u001B[49m\n\u001B[1;32m     31\u001B[0m \u001B[43m        \u001B[49m\u001B[43m)\u001B[49m,\n\u001B[1;32m     32\u001B[0m         os\u001B[38;5;241m.\u001B[39mpath\u001B[38;5;241m.\u001B[39mjoin(output_folder, \u001B[38;5;124mf\u001B[39m\u001B[38;5;124m\"\u001B[39m\u001B[38;5;132;01m{\u001B[39;00mos\u001B[38;5;241m.\u001B[39mpath\u001B[38;5;241m.\u001B[39msplitext(os\u001B[38;5;241m.\u001B[39mpath\u001B[38;5;241m.\u001B[39mbasename(path))[\u001B[38;5;241m0\u001B[39m]\u001B[38;5;132;01m}\u001B[39;00m\u001B[38;5;124m_CloudMask.gpkg\u001B[39m\u001B[38;5;124m\"\u001B[39m),\n\u001B[1;32m     33\u001B[0m     )\n",
      "File \u001B[0;32m~/Downloads/Projects/spectralmatch/spectralmatch/mask.py:104\u001B[0m, in \u001B[0;36mpost_process_raster_cloud_mask_to_vector\u001B[0;34m(input_image_path, minimum_mask_size_percentile, polygon_buffering_in_map_units, value_mapping)\u001B[0m\n\u001B[1;32m     82\u001B[0m \u001B[38;5;28;01mdef\u001B[39;00m\u001B[38;5;250m \u001B[39m\u001B[38;5;21mpost_process_raster_cloud_mask_to_vector\u001B[39m(\n\u001B[1;32m     83\u001B[0m     input_image_path: \u001B[38;5;28mstr\u001B[39m,\n\u001B[1;32m     84\u001B[0m     minimum_mask_size_percentile: \u001B[38;5;28mfloat\u001B[39m \u001B[38;5;241m=\u001B[39m \u001B[38;5;28;01mNone\u001B[39;00m,\n\u001B[1;32m     85\u001B[0m     polygon_buffering_in_map_units: \u001B[38;5;28mdict\u001B[39m \u001B[38;5;241m=\u001B[39m \u001B[38;5;28;01mNone\u001B[39;00m,\n\u001B[1;32m     86\u001B[0m     value_mapping: \u001B[38;5;28mdict\u001B[39m \u001B[38;5;241m=\u001B[39m \u001B[38;5;28;01mNone\u001B[39;00m\n\u001B[1;32m     87\u001B[0m     ) \u001B[38;5;241m-\u001B[39m\u001B[38;5;241m>\u001B[39m ogr\u001B[38;5;241m.\u001B[39mDataSource:\n\u001B[1;32m     88\u001B[0m \u001B[38;5;250m    \u001B[39m\u001B[38;5;124;03m\"\"\"\u001B[39;00m\n\u001B[1;32m     89\u001B[0m \u001B[38;5;124;03m    Converts a raster cloud mask to a vector layer with optional filtering, buffering, and merging.\u001B[39;00m\n\u001B[1;32m     90\u001B[0m \n\u001B[0;32m   (...)\u001B[0m\n\u001B[1;32m    101\u001B[0m \u001B[38;5;124;03m        Returns an OGR DataSource containing post-processed vector features.\u001B[39;00m\n\u001B[1;32m    102\u001B[0m \u001B[38;5;124;03m    \"\"\"\u001B[39;00m\n\u001B[0;32m--> 104\u001B[0m     \u001B[38;5;28;01mwith\u001B[39;00m \u001B[43mrasterio\u001B[49m\u001B[38;5;241;43m.\u001B[39;49m\u001B[43mopen\u001B[49m\u001B[43m(\u001B[49m\u001B[43minput_image_path\u001B[49m\u001B[43m)\u001B[49m \u001B[38;5;28;01mas\u001B[39;00m src:\n\u001B[1;32m    105\u001B[0m         raster_data \u001B[38;5;241m=\u001B[39m src\u001B[38;5;241m.\u001B[39mread(\u001B[38;5;241m1\u001B[39m)\n\u001B[1;32m    106\u001B[0m         transform \u001B[38;5;241m=\u001B[39m src\u001B[38;5;241m.\u001B[39mtransform\n",
      "File \u001B[0;32m/opt/anaconda3/envs/spectralmatch/lib/python3.10/site-packages/rasterio/env.py:463\u001B[0m, in \u001B[0;36mensure_env_with_credentials.<locals>.wrapper\u001B[0;34m(*args, **kwds)\u001B[0m\n\u001B[1;32m    460\u001B[0m     session \u001B[38;5;241m=\u001B[39m DummySession()\n\u001B[1;32m    462\u001B[0m \u001B[38;5;28;01mwith\u001B[39;00m env_ctor(session\u001B[38;5;241m=\u001B[39msession):\n\u001B[0;32m--> 463\u001B[0m     \u001B[38;5;28;01mreturn\u001B[39;00m \u001B[43mf\u001B[49m\u001B[43m(\u001B[49m\u001B[38;5;241;43m*\u001B[39;49m\u001B[43margs\u001B[49m\u001B[43m,\u001B[49m\u001B[43m \u001B[49m\u001B[38;5;241;43m*\u001B[39;49m\u001B[38;5;241;43m*\u001B[39;49m\u001B[43mkwds\u001B[49m\u001B[43m)\u001B[49m\n",
      "File \u001B[0;32m/opt/anaconda3/envs/spectralmatch/lib/python3.10/site-packages/rasterio/__init__.py:356\u001B[0m, in \u001B[0;36mopen\u001B[0;34m(fp, mode, driver, width, height, count, crs, transform, dtype, nodata, sharing, opener, **kwargs)\u001B[0m\n\u001B[1;32m    353\u001B[0m     path \u001B[38;5;241m=\u001B[39m _parse_path(raw_dataset_path)\n\u001B[1;32m    355\u001B[0m \u001B[38;5;28;01mif\u001B[39;00m mode \u001B[38;5;241m==\u001B[39m \u001B[38;5;124m\"\u001B[39m\u001B[38;5;124mr\u001B[39m\u001B[38;5;124m\"\u001B[39m:\n\u001B[0;32m--> 356\u001B[0m     dataset \u001B[38;5;241m=\u001B[39m \u001B[43mDatasetReader\u001B[49m\u001B[43m(\u001B[49m\u001B[43mpath\u001B[49m\u001B[43m,\u001B[49m\u001B[43m \u001B[49m\u001B[43mdriver\u001B[49m\u001B[38;5;241;43m=\u001B[39;49m\u001B[43mdriver\u001B[49m\u001B[43m,\u001B[49m\u001B[43m \u001B[49m\u001B[43msharing\u001B[49m\u001B[38;5;241;43m=\u001B[39;49m\u001B[43msharing\u001B[49m\u001B[43m,\u001B[49m\u001B[43m \u001B[49m\u001B[38;5;241;43m*\u001B[39;49m\u001B[38;5;241;43m*\u001B[39;49m\u001B[43mkwargs\u001B[49m\u001B[43m)\u001B[49m\n\u001B[1;32m    357\u001B[0m \u001B[38;5;28;01melif\u001B[39;00m mode \u001B[38;5;241m==\u001B[39m \u001B[38;5;124m\"\u001B[39m\u001B[38;5;124mr+\u001B[39m\u001B[38;5;124m\"\u001B[39m:\n\u001B[1;32m    358\u001B[0m     dataset \u001B[38;5;241m=\u001B[39m get_writer_for_path(path, driver\u001B[38;5;241m=\u001B[39mdriver)(\n\u001B[1;32m    359\u001B[0m         path, mode, driver\u001B[38;5;241m=\u001B[39mdriver, sharing\u001B[38;5;241m=\u001B[39msharing, \u001B[38;5;241m*\u001B[39m\u001B[38;5;241m*\u001B[39mkwargs\n\u001B[1;32m    360\u001B[0m     )\n",
      "File \u001B[0;32mrasterio/_base.pyx:312\u001B[0m, in \u001B[0;36mrasterio._base.DatasetBase.__init__\u001B[0;34m()\u001B[0m\n",
      "\u001B[0;31mRasterioIOError\u001B[0m: /Users/kanoalindiwe/Downloads/Projects/spectralmatch/docs/examples/data_landsat/Masks/Masked_20220313.tif: No such file or directory"
     ]
    }
   ],
   "execution_count": 23
  },
  {
   "metadata": {},
   "cell_type": "code",
   "outputs": [],
   "execution_count": null,
   "source": [
    "# Masking trees for isolated analysis\n",
    "from spectralmatch import (\n",
    "    create_ndvi_mask,\n",
    "    post_process_threshold_to_vector\n",
    ")\n",
    "\n",
    "create_ndvi_mask(\n",
    "    \"input_image_path.tif\",\n",
    "    \"output_image_path.tif\",\n",
    "    4,\n",
    "    3,\n",
    ")\n",
    "post_process_threshold_to_vector(\n",
    "    \"input_image_path.tif\",\n",
    "    'output_vector_path.gpkg',\n",
    "    0.2,\n",
    "    \"<=\",\n",
    ")"
   ],
   "id": "e19b95a5e11b470b"
  },
  {
   "metadata": {
    "collapsed": true,
    "jupyter": {
     "is_executing": true
    }
   },
   "cell_type": "code",
   "outputs": [],
   "execution_count": null,
   "source": [
    "# Global histogram matching\n",
    "from spectralmatch import global_regression, local_block_adjustment\n",
    "from spectralmatch import merge_rasters\n",
    "\n",
    "\n",
    "\n",
    "vector_mask_path = working_directory + \"/Input/Masks.gpkg\"\n",
    "\n",
    "input_folder = os.path.join(working_directory, \"Input\")\n",
    "global_folder = os.path.join(working_directory, \"Output/GlobalMatch\")\n",
    "local_folder = os.path.join(working_directory, \"Output/LocalMatch\")\n",
    "\n",
    "input_image_paths_array = [os.path.join(input_folder, f) for f in os.listdir(input_folder) if f.lower().endswith(\".tif\")]\n",
    "\n",
    "matched_global_images_paths = global_regression(\n",
    "    input_image_paths_array,\n",
    "    global_folder,\n",
    "    custom_mean_factor = 3, # Defualt 1; 3 often works better to 'move' the spectral mean of images closer together\n",
    "    custom_std_factor = 1,\n",
    "    # vector_mask_path=vector_mask_path,\n",
    "    debug_logs=False,\n",
    "    window_size=(512, 512),\n",
    "    parallel=True,\n",
    "    )\n",
    "\n"
   ],
   "id": "initial_id"
  },
  {
   "metadata": {},
   "cell_type": "code",
   "outputs": [],
   "execution_count": null,
   "source": [
    "# Local histogram matching\n",
    "global_image_paths_array = [os.path.join(f\"{global_folder}/Images\", f) for f in os.listdir(f\"{global_folder}/Images\") if f.lower().endswith(\".tif\")]\n",
    "\n",
    "matched_local_images_paths = local_block_adjustment(\n",
    "    global_image_paths_array,\n",
    "    local_folder,\n",
    "    target_blocks_per_image=100,\n",
    "    projection=\"EPSG:6635\",\n",
    "    debug_logs=False,\n",
    "    window_size=(512, 512),\n",
    "    parallel=True,\n",
    "    )\n",
    "\n",
    "merge_rasters(\n",
    "    matched_local_images_paths, # Rasters are layered with the last ones on top\n",
    "    os.path.join(working_directory, \"Output/LocalMatch/MatchedLocalImages.tif\"),\n",
    "    window_size=(512, 512),\n",
    "    )\n",
    "\n",
    "print(\"Done with global and local histogram matching\")"
   ],
   "id": "4e76a7d02dddf4d9"
  },
  {
   "metadata": {},
   "cell_type": "markdown",
   "source": "",
   "id": "9c36cf6ecbbfcdac"
  }
 ],
 "metadata": {
  "kernelspec": {
   "display_name": "Python 3",
   "language": "python",
   "name": "python3"
  },
  "language_info": {
   "codemirror_mode": {
    "name": "ipython",
    "version": 2
   },
   "file_extension": ".py",
   "mimetype": "text/x-python",
   "name": "python",
   "nbconvert_exporter": "python",
   "pygments_lexer": "ipython2",
   "version": "2.7.6"
  }
 },
 "nbformat": 4,
 "nbformat_minor": 5
}
